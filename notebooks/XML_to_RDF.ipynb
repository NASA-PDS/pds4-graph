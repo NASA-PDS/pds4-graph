{
 "cells": [
  {
   "cell_type": "code",
   "execution_count": 79,
   "id": "7385bc59",
   "metadata": {},
   "outputs": [],
   "source": [
    "import xml.etree.ElementTree as ET\n",
    "import xmltodict\n",
    "import requests\n",
    "import uuid\n",
    "import sys\n",
    "import re\n",
    "import os\n",
    "\n",
    "from rdflib import Graph\n",
    "from uuid import UUID\n",
    "\n",
    "from urllib.parse import urlparse\n",
    "import boto3\n",
    "import botocore.session\n",
    "from botocore.config import Config\n",
    "from botocore.session import get_session\n",
    "from graph_notebook.neptune.client import ClientBuilder\n",
    "from graph_notebook.configuration.generate_config import AuthModeEnum\n",
    "\n",
    "TYPE = \"rdf:type\"\n",
    "PDS4_TYPE = \"pds4:\""
   ]
  },
  {
   "cell_type": "code",
   "execution_count": 80,
   "id": "9333caee",
   "metadata": {},
   "outputs": [],
   "source": [
    "# Get class id\n",
    "def getClassID(class_label, parent_label, endpoint_url=None, access_key=None, secret_key=None):\n",
    "    # Use access key and secret key to access Neptune DB\n",
    "    try:\n",
    "        session = get_session()\n",
    "        builder = session.create_client(\n",
    "            's3', region_name=\"us-west-2\", endpoint_url=endpoint_url,\n",
    "            aws_access_key_id=access_key, aws_secret_access_key=secret_key)\n",
    "        client = builder.build()\n",
    "    except: \n",
    "        builder = ClientBuilder() \\\n",
    "            .with_host(\"pds-en-registry-graph.cluster-cibj64l3k87g.us-west-2.neptune.amazonaws.com\") \\\n",
    "            .with_port(\"8182\") \\\n",
    "            .with_region(\"us-west-2\") \\\n",
    "            .with_tls(\"true\") \\\n",
    "            .with_sparql_path(\"sparql\")\n",
    "\n",
    "        builder = builder.with_iam(get_session())\n",
    "        client = builder.build()\n",
    "    \n",
    "    query = f\"SELECT DISTINCT ?s where {{?s rdfs:label ?label. FILTER contains(?label, \\\"{class_label}\\\"). ?s rdfs:domain ?domain. FILTER contains(?domain, \\\"{parent_label}\\\").}}\"    \n",
    "    result = client.sparql(query).json()\n",
    "    \n",
    "    # Check if query returns nothing\n",
    "    if len(result[\"results\"][\"bindings\"]) == 0:\n",
    "        query = f\"SELECT DISTINCT ?s where {{?s rdfs:label ?label. FILTER contains(?label, \\\"{class_label}\\\"). ?s rdf:type rdfs:Class.}}\"\n",
    "        result = client.sparql(query).json()\n",
    "        value = result[\"results\"][\"bindings\"][1][\"s\"][\"value\"]\n",
    "        value = value.split('/')[-1] # Parse for Class id\n",
    "        return(value)"
   ]
  },
  {
   "cell_type": "code",
   "execution_count": 81,
   "id": "a63f042e",
   "metadata": {},
   "outputs": [],
   "source": [
    "def createUniqueID():\n",
    "    return uuid.uuid4()"
   ]
  },
  {
   "cell_type": "code",
   "execution_count": 82,
   "id": "f453dc48",
   "metadata": {},
   "outputs": [],
   "source": [
    "# Get Class and Parent ID\n",
    "def get_im_object_id(child):\n",
    "    child_list = []\n",
    "    for kid in child.getchildren():\n",
    "        if getText(str(kid)).istitle():\n",
    "            child_list.append(getText(str(kid)) + ':' + getText(str(child)))\n",
    "    return child_list"
   ]
  },
  {
   "cell_type": "code",
   "execution_count": 83,
   "id": "ca6c6920",
   "metadata": {},
   "outputs": [],
   "source": [
    "# Get Product Bundel to work\n",
    "def getText(tag):\n",
    "    text = re.search(r'}(\\w+)', tag)\n",
    "    return text.group(1)"
   ]
  },
  {
   "cell_type": "code",
   "execution_count": 84,
   "id": "6f78d1ce",
   "metadata": {},
   "outputs": [],
   "source": [
    "def print_parent(class_name, class_uuid, ids, rdf_file):\n",
    "    # Get class and parent id\n",
    "    result = getString(getText(class_name), ids)\n",
    "    class_pds_id = \"\"\n",
    "    \n",
    "    try:\n",
    "        class_id, parent_id = result[0].split(':')\n",
    "        class_pds_id = getClassID(getText(class_name), parent_id)\n",
    "    except:\n",
    "        class_pds_id = getClassID(getText(class_name), \"None\")\n",
    "        \n",
    "    rdf_file.write(str(class_uuid) + ' ' + TYPE + ' ' + class_pds_id + \"\\n\")"
   ]
  },
  {
   "cell_type": "code",
   "execution_count": 85,
   "id": "3fe4eab6",
   "metadata": {},
   "outputs": [],
   "source": [
    "def escapeReservedChars(data):\n",
    "    operators = ['~', '.', '-', '!', '$', '&', '\\'', '(', ')', '*', '+', ',', ';', '=', '/', '?', '#', '@', '%', '_']\n",
    "    # Add escape characters to data\n",
    "    data2 = \"\"\n",
    "    for i in data:\n",
    "        if i in operators:\n",
    "            data2 += '\\\\' + i\n",
    "        else:\n",
    "            data2 += i\n",
    "    return data2"
   ]
  },
  {
   "cell_type": "code",
   "execution_count": 86,
   "id": "1b575479",
   "metadata": {},
   "outputs": [],
   "source": [
    "# Return string that contains the given substring\n",
    "def getString(substring, ids):\n",
    "    # Check if ids is empty\n",
    "    if ids:\n",
    "        result = [x for x in ids if re.search(substring, x)]\n",
    "        return result"
   ]
  },
  {
   "cell_type": "code",
   "execution_count": 87,
   "id": "f7ffef54",
   "metadata": {},
   "outputs": [],
   "source": [
    "def print_children(class_name, class_uuid, children, rdf_file, ids=[]):\n",
    "    print_parent(class_name, class_uuid, ids, rdf_file)\n",
    "    for key, value in children.items():\n",
    "        for data in value:\n",
    "            # Format output\n",
    "            text = getText(key)\n",
    "            text = text.replace('\\t', '').replace('\\n', '')\n",
    "\n",
    "            # Escape all data\n",
    "            data = escapeReservedChars(data)\n",
    "            \n",
    "            # TODO: Only add strings around name/label and comment/description\n",
    "            rdf_file.write(\"\\t\" + PDS4_TYPE + text + ' ' + \"\\\"\" + data + \"\\\"\" + \"\\n\")"
   ]
  },
  {
   "cell_type": "code",
   "execution_count": 88,
   "id": "a5379e49",
   "metadata": {},
   "outputs": [],
   "source": [
    "# Initialize dictionary\n",
    "def initializeDict(children_dict, childTag):\n",
    "    if childTag not in children_dict:\n",
    "        children_dict[childTag] = []"
   ]
  },
  {
   "cell_type": "code",
   "execution_count": 89,
   "id": "d3811308",
   "metadata": {},
   "outputs": [],
   "source": [
    "# Get Classes and Attributes (Children)\n",
    "def get_children(parent, rdf_file):\n",
    "    children_dict = {}\n",
    "    for child in parent:\n",
    "        # This is a class\n",
    "        if child.getchildren():\n",
    "            uniqueId = createUniqueID() # Get UUID for class\n",
    "            ids = get_im_object_id(child) # Get parent class id \n",
    "            \n",
    "            # Remove duplicates from list\n",
    "            ids = list(set(ids))\n",
    "            \n",
    "            my_children = get_children(child.getchildren(), rdf_file)\n",
    "                        \n",
    "            # Check for child.tag not in children_dict\n",
    "            initializeDict(children_dict, child.tag)\n",
    "            \n",
    "            # Append class\n",
    "            children_dict[child.tag].append(str(uniqueId))\n",
    "            print_children(child.tag, uniqueId, my_children, rdf_file, ids)\n",
    "        else:\n",
    "            # Check for child.tag not in children_dict\n",
    "            initializeDict(children_dict, child.tag)\n",
    "                \n",
    "            # Append attributes \n",
    "            children_dict[child.tag].append(child.text)\n",
    "                \n",
    "    return children_dict"
   ]
  },
  {
   "cell_type": "code",
   "execution_count": 90,
   "id": "f5b1466d",
   "metadata": {},
   "outputs": [
    {
     "name": "stdout",
     "output_type": "stream",
     "text": [
      "Enter XML URL: https://pds-imaging.jpl.nasa.gov/data/nsyt/insight_cameras/bundle_9.0.xml\n"
     ]
    }
   ],
   "source": [
    "xml_url = input(\"Enter XML URL: \")\n",
    "xml_url_name = xml_url.split('/')[-1]\n",
    "xml_url_name = xml_url_name.rsplit('.', 1)[0]\n",
    "tree = ET.fromstring(requests.get(xml_url).text)"
   ]
  },
  {
   "cell_type": "code",
   "execution_count": 91,
   "id": "124b89ed",
   "metadata": {
    "scrolled": true
   },
   "outputs": [],
   "source": [
    "# Output in rdf form\n",
    "rdf_file = open((xml_url_name + \".ttl\"), \"a\")\n",
    "my_children = get_children(tree, rdf_file)\n",
    "print_children(tree.tag, createUniqueID(), my_children, rdf_file)\n",
    "rdf_file.close()"
   ]
  },
  {
   "cell_type": "code",
   "execution_count": null,
   "id": "ca09a67d",
   "metadata": {},
   "outputs": [],
   "source": []
  },
  {
   "cell_type": "code",
   "execution_count": 35,
   "id": "e94746fa",
   "metadata": {},
   "outputs": [],
   "source": [
    "import unittest"
   ]
  },
  {
   "cell_type": "code",
   "execution_count": 64,
   "id": "0caa022b",
   "metadata": {},
   "outputs": [],
   "source": [
    "class TestNotebook(unittest.TestCase):\n",
    "    \n",
    "    def test_initialize_dict(self):\n",
    "        temp_dict = {}\n",
    "        temp_child_tag = \"Child\"\n",
    "        initializeDict(temp_dict, temp_child_tag)\n",
    "        self.assertEqual(temp_dict.get('Child'), [])\n",
    "        \n",
    "    def test_get_string(self):\n",
    "        temp_ids = [\"Child:Parent\", \"Team:Person\"]\n",
    "        temp_substring = \"Child\"\n",
    "        result = getString(temp_substring, temp_ids)\n",
    "        self.assertEqual(result, [\"Child:Parent\"])\n",
    "        \n",
    "    def test_escape_reserved_chars(self):\n",
    "        temp_string = \"~team,me$\"\n",
    "        correct_string = \"\\~team\\,me\\$\"\n",
    "        result = escapeReservedChars(temp_string)\n",
    "        self.assertEqual(result, correct_string)\n",
    "        \n",
    "    def test_get_text(self):\n",
    "        temp_string = \"<Element '{http://pds.nasa.gov/pds4/pds/v1}author_list' at 0x7f20b7ecc2c8>\"\n",
    "        correct_string = \"author_list\"\n",
    "        result = getText(temp_string)\n",
    "        self.assertEqual(result, correct_string)\n",
    "        \n",
    "    def test_get_Class_ID(self):\n",
    "        temp_class_label = \"Science_Facets\"\n",
    "        temp_parent_label = \"Primary_Result_Summary\"\n",
    "        correct_string = \"urn:nasa:pds:0001_nasa_pds_1:pds:product_components:pds:science_facets::1.0\"\n",
    "        result = getClassID(temp_class_label, temp_parent_label)\n",
    "        self.assertEqual(result, correct_string)"
   ]
  },
  {
   "cell_type": "code",
   "execution_count": 65,
   "id": "0658957d",
   "metadata": {},
   "outputs": [
    {
     "name": "stderr",
     "output_type": "stream",
     "text": [
      "test_escape_reserved_chars (__main__.TestNotebook) ... ok\n",
      "test_get_Class_ID (__main__.TestNotebook) ... /home/ec2-user/anaconda3/envs/JupyterSystemEnv/lib/python3.6/site-packages/ipykernel_launcher.py:31: ResourceWarning: unclosed <ssl.SSLSocket fd=53, family=AddressFamily.AF_INET, type=SocketKind.SOCK_STREAM, proto=6, laddr=('10.100.1.141', 41622), raddr=('10.100.4.217', 8182)>\n",
      "ok\n",
      "test_get_string (__main__.TestNotebook) ... ok\n",
      "test_get_text (__main__.TestNotebook) ... ok\n",
      "test_initialize_dict (__main__.TestNotebook) ... ok\n",
      "\n",
      "----------------------------------------------------------------------\n",
      "Ran 5 tests in 0.297s\n",
      "\n",
      "OK\n"
     ]
    },
    {
     "data": {
      "text/plain": [
       "<unittest.main.TestProgram at 0x7f20b68eb828>"
      ]
     },
     "execution_count": 65,
     "metadata": {},
     "output_type": "execute_result"
    }
   ],
   "source": [
    "unittest.main(argv=[''], verbosity=2, exit=False)"
   ]
  },
  {
   "cell_type": "code",
   "execution_count": null,
   "id": "0b2597bc",
   "metadata": {},
   "outputs": [],
   "source": []
  }
 ],
 "metadata": {
  "kernelspec": {
   "display_name": "Python 3",
   "language": "python",
   "name": "python3"
  },
  "language_info": {
   "codemirror_mode": {
    "name": "ipython",
    "version": 3
   },
   "file_extension": ".py",
   "mimetype": "text/x-python",
   "name": "python",
   "nbconvert_exporter": "python",
   "pygments_lexer": "ipython3",
   "version": "3.6.13"
  }
 },
 "nbformat": 4,
 "nbformat_minor": 5
}
